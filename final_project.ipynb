{
 "cells": [
  {
   "cell_type": "code",
   "execution_count": 2,
   "metadata": {},
   "outputs": [],
   "source": [
    "import datetime\n",
    "import pandas as pd"
   ]
  },
  {
   "cell_type": "markdown",
   "metadata": {},
   "source": [
    "# Read data"
   ]
  },
  {
   "cell_type": "markdown",
   "metadata": {},
   "source": [
    "### Read events data"
   ]
  },
  {
   "cell_type": "code",
   "execution_count": 3,
   "metadata": {},
   "outputs": [],
   "source": [
    "raw_events = pd.read_csv('events.csv')"
   ]
  },
  {
   "cell_type": "code",
   "execution_count": 3,
   "metadata": {},
   "outputs": [
    {
     "data": {
      "text/html": [
       "<div>\n",
       "<style scoped>\n",
       "    .dataframe tbody tr th:only-of-type {\n",
       "        vertical-align: middle;\n",
       "    }\n",
       "\n",
       "    .dataframe tbody tr th {\n",
       "        vertical-align: top;\n",
       "    }\n",
       "\n",
       "    .dataframe thead th {\n",
       "        text-align: right;\n",
       "    }\n",
       "</style>\n",
       "<table border=\"1\" class=\"dataframe\">\n",
       "  <thead>\n",
       "    <tr style=\"text-align: right;\">\n",
       "      <th></th>\n",
       "      <th>timestamp</th>\n",
       "      <th>visitorid</th>\n",
       "      <th>event</th>\n",
       "      <th>itemid</th>\n",
       "      <th>transactionid</th>\n",
       "    </tr>\n",
       "  </thead>\n",
       "  <tbody>\n",
       "    <tr>\n",
       "      <th>0</th>\n",
       "      <td>1433221332117</td>\n",
       "      <td>257597</td>\n",
       "      <td>view</td>\n",
       "      <td>355908</td>\n",
       "      <td>NaN</td>\n",
       "    </tr>\n",
       "    <tr>\n",
       "      <th>1</th>\n",
       "      <td>1433224214164</td>\n",
       "      <td>992329</td>\n",
       "      <td>view</td>\n",
       "      <td>248676</td>\n",
       "      <td>NaN</td>\n",
       "    </tr>\n",
       "    <tr>\n",
       "      <th>2</th>\n",
       "      <td>1433221999827</td>\n",
       "      <td>111016</td>\n",
       "      <td>view</td>\n",
       "      <td>318965</td>\n",
       "      <td>NaN</td>\n",
       "    </tr>\n",
       "    <tr>\n",
       "      <th>3</th>\n",
       "      <td>1433221955914</td>\n",
       "      <td>483717</td>\n",
       "      <td>view</td>\n",
       "      <td>253185</td>\n",
       "      <td>NaN</td>\n",
       "    </tr>\n",
       "    <tr>\n",
       "      <th>4</th>\n",
       "      <td>1433221337106</td>\n",
       "      <td>951259</td>\n",
       "      <td>view</td>\n",
       "      <td>367447</td>\n",
       "      <td>NaN</td>\n",
       "    </tr>\n",
       "    <tr>\n",
       "      <th>...</th>\n",
       "      <td>...</td>\n",
       "      <td>...</td>\n",
       "      <td>...</td>\n",
       "      <td>...</td>\n",
       "      <td>...</td>\n",
       "    </tr>\n",
       "    <tr>\n",
       "      <th>2756096</th>\n",
       "      <td>1438398785939</td>\n",
       "      <td>591435</td>\n",
       "      <td>view</td>\n",
       "      <td>261427</td>\n",
       "      <td>NaN</td>\n",
       "    </tr>\n",
       "    <tr>\n",
       "      <th>2756097</th>\n",
       "      <td>1438399813142</td>\n",
       "      <td>762376</td>\n",
       "      <td>view</td>\n",
       "      <td>115946</td>\n",
       "      <td>NaN</td>\n",
       "    </tr>\n",
       "    <tr>\n",
       "      <th>2756098</th>\n",
       "      <td>1438397820527</td>\n",
       "      <td>1251746</td>\n",
       "      <td>view</td>\n",
       "      <td>78144</td>\n",
       "      <td>NaN</td>\n",
       "    </tr>\n",
       "    <tr>\n",
       "      <th>2756099</th>\n",
       "      <td>1438398530703</td>\n",
       "      <td>1184451</td>\n",
       "      <td>view</td>\n",
       "      <td>283392</td>\n",
       "      <td>NaN</td>\n",
       "    </tr>\n",
       "    <tr>\n",
       "      <th>2756100</th>\n",
       "      <td>1438400163914</td>\n",
       "      <td>199536</td>\n",
       "      <td>view</td>\n",
       "      <td>152913</td>\n",
       "      <td>NaN</td>\n",
       "    </tr>\n",
       "  </tbody>\n",
       "</table>\n",
       "<p>2756101 rows × 5 columns</p>\n",
       "</div>"
      ],
      "text/plain": [
       "             timestamp  visitorid event  itemid  transactionid\n",
       "0        1433221332117     257597  view  355908            NaN\n",
       "1        1433224214164     992329  view  248676            NaN\n",
       "2        1433221999827     111016  view  318965            NaN\n",
       "3        1433221955914     483717  view  253185            NaN\n",
       "4        1433221337106     951259  view  367447            NaN\n",
       "...                ...        ...   ...     ...            ...\n",
       "2756096  1438398785939     591435  view  261427            NaN\n",
       "2756097  1438399813142     762376  view  115946            NaN\n",
       "2756098  1438397820527    1251746  view   78144            NaN\n",
       "2756099  1438398530703    1184451  view  283392            NaN\n",
       "2756100  1438400163914     199536  view  152913            NaN\n",
       "\n",
       "[2756101 rows x 5 columns]"
      ]
     },
     "execution_count": 3,
     "metadata": {},
     "output_type": "execute_result"
    }
   ],
   "source": [
    "raw_events"
   ]
  },
  {
   "cell_type": "code",
   "execution_count": 4,
   "metadata": {},
   "outputs": [
    {
     "data": {
      "text/plain": [
       "timestamp        0.000000\n",
       "visitorid        0.000000\n",
       "event            0.000000\n",
       "itemid           0.000000\n",
       "transactionid    0.991852\n",
       "dtype: float64"
      ]
     },
     "execution_count": 4,
     "metadata": {},
     "output_type": "execute_result"
    }
   ],
   "source": [
    "# chech empty data\n",
    "raw_events.isna().sum() / len(raw_events)"
   ]
  },
  {
   "cell_type": "code",
   "execution_count": 5,
   "metadata": {},
   "outputs": [],
   "source": [
    "cat_tree = pd.read_csv('category_tree.csv')"
   ]
  },
  {
   "cell_type": "code",
   "execution_count": 6,
   "metadata": {},
   "outputs": [
    {
     "data": {
      "text/html": [
       "<div>\n",
       "<style scoped>\n",
       "    .dataframe tbody tr th:only-of-type {\n",
       "        vertical-align: middle;\n",
       "    }\n",
       "\n",
       "    .dataframe tbody tr th {\n",
       "        vertical-align: top;\n",
       "    }\n",
       "\n",
       "    .dataframe thead th {\n",
       "        text-align: right;\n",
       "    }\n",
       "</style>\n",
       "<table border=\"1\" class=\"dataframe\">\n",
       "  <thead>\n",
       "    <tr style=\"text-align: right;\">\n",
       "      <th></th>\n",
       "      <th>categoryid</th>\n",
       "      <th>parentid</th>\n",
       "    </tr>\n",
       "  </thead>\n",
       "  <tbody>\n",
       "    <tr>\n",
       "      <th>0</th>\n",
       "      <td>1016</td>\n",
       "      <td>213.0</td>\n",
       "    </tr>\n",
       "    <tr>\n",
       "      <th>1</th>\n",
       "      <td>809</td>\n",
       "      <td>169.0</td>\n",
       "    </tr>\n",
       "    <tr>\n",
       "      <th>2</th>\n",
       "      <td>570</td>\n",
       "      <td>9.0</td>\n",
       "    </tr>\n",
       "    <tr>\n",
       "      <th>3</th>\n",
       "      <td>1691</td>\n",
       "      <td>885.0</td>\n",
       "    </tr>\n",
       "    <tr>\n",
       "      <th>4</th>\n",
       "      <td>536</td>\n",
       "      <td>1691.0</td>\n",
       "    </tr>\n",
       "    <tr>\n",
       "      <th>...</th>\n",
       "      <td>...</td>\n",
       "      <td>...</td>\n",
       "    </tr>\n",
       "    <tr>\n",
       "      <th>1664</th>\n",
       "      <td>49</td>\n",
       "      <td>1125.0</td>\n",
       "    </tr>\n",
       "    <tr>\n",
       "      <th>1665</th>\n",
       "      <td>1112</td>\n",
       "      <td>630.0</td>\n",
       "    </tr>\n",
       "    <tr>\n",
       "      <th>1666</th>\n",
       "      <td>1336</td>\n",
       "      <td>745.0</td>\n",
       "    </tr>\n",
       "    <tr>\n",
       "      <th>1667</th>\n",
       "      <td>689</td>\n",
       "      <td>207.0</td>\n",
       "    </tr>\n",
       "    <tr>\n",
       "      <th>1668</th>\n",
       "      <td>761</td>\n",
       "      <td>395.0</td>\n",
       "    </tr>\n",
       "  </tbody>\n",
       "</table>\n",
       "<p>1669 rows × 2 columns</p>\n",
       "</div>"
      ],
      "text/plain": [
       "      categoryid  parentid\n",
       "0           1016     213.0\n",
       "1            809     169.0\n",
       "2            570       9.0\n",
       "3           1691     885.0\n",
       "4            536    1691.0\n",
       "...          ...       ...\n",
       "1664          49    1125.0\n",
       "1665        1112     630.0\n",
       "1666        1336     745.0\n",
       "1667         689     207.0\n",
       "1668         761     395.0\n",
       "\n",
       "[1669 rows x 2 columns]"
      ]
     },
     "execution_count": 6,
     "metadata": {},
     "output_type": "execute_result"
    }
   ],
   "source": [
    "cat_tree # really this data doesn't help"
   ]
  },
  {
   "cell_type": "markdown",
   "metadata": {},
   "source": [
    "### Combine item properties data"
   ]
  },
  {
   "cell_type": "code",
   "execution_count": 5,
   "metadata": {},
   "outputs": [],
   "source": [
    "item_prop_1 = pd.read_csv('item_properties_part1.csv')"
   ]
  },
  {
   "cell_type": "code",
   "execution_count": 6,
   "metadata": {},
   "outputs": [
    {
     "data": {
      "text/html": [
       "<div>\n",
       "<style scoped>\n",
       "    .dataframe tbody tr th:only-of-type {\n",
       "        vertical-align: middle;\n",
       "    }\n",
       "\n",
       "    .dataframe tbody tr th {\n",
       "        vertical-align: top;\n",
       "    }\n",
       "\n",
       "    .dataframe thead th {\n",
       "        text-align: right;\n",
       "    }\n",
       "</style>\n",
       "<table border=\"1\" class=\"dataframe\">\n",
       "  <thead>\n",
       "    <tr style=\"text-align: right;\">\n",
       "      <th></th>\n",
       "      <th>timestamp</th>\n",
       "      <th>itemid</th>\n",
       "      <th>property</th>\n",
       "      <th>value</th>\n",
       "    </tr>\n",
       "  </thead>\n",
       "  <tbody>\n",
       "    <tr>\n",
       "      <th>0</th>\n",
       "      <td>1435460400000</td>\n",
       "      <td>460429</td>\n",
       "      <td>categoryid</td>\n",
       "      <td>1338</td>\n",
       "    </tr>\n",
       "    <tr>\n",
       "      <th>1</th>\n",
       "      <td>1441508400000</td>\n",
       "      <td>206783</td>\n",
       "      <td>888</td>\n",
       "      <td>1116713 960601 n277.200</td>\n",
       "    </tr>\n",
       "    <tr>\n",
       "      <th>2</th>\n",
       "      <td>1439089200000</td>\n",
       "      <td>395014</td>\n",
       "      <td>400</td>\n",
       "      <td>n552.000 639502 n720.000 424566</td>\n",
       "    </tr>\n",
       "    <tr>\n",
       "      <th>3</th>\n",
       "      <td>1431226800000</td>\n",
       "      <td>59481</td>\n",
       "      <td>790</td>\n",
       "      <td>n15360.000</td>\n",
       "    </tr>\n",
       "    <tr>\n",
       "      <th>4</th>\n",
       "      <td>1431831600000</td>\n",
       "      <td>156781</td>\n",
       "      <td>917</td>\n",
       "      <td>828513</td>\n",
       "    </tr>\n",
       "    <tr>\n",
       "      <th>...</th>\n",
       "      <td>...</td>\n",
       "      <td>...</td>\n",
       "      <td>...</td>\n",
       "      <td>...</td>\n",
       "    </tr>\n",
       "    <tr>\n",
       "      <th>10999994</th>\n",
       "      <td>1439694000000</td>\n",
       "      <td>86599</td>\n",
       "      <td>categoryid</td>\n",
       "      <td>618</td>\n",
       "    </tr>\n",
       "    <tr>\n",
       "      <th>10999995</th>\n",
       "      <td>1435460400000</td>\n",
       "      <td>153032</td>\n",
       "      <td>1066</td>\n",
       "      <td>n1020.000 424566</td>\n",
       "    </tr>\n",
       "    <tr>\n",
       "      <th>10999996</th>\n",
       "      <td>1440298800000</td>\n",
       "      <td>421788</td>\n",
       "      <td>888</td>\n",
       "      <td>35975 856003 37346</td>\n",
       "    </tr>\n",
       "    <tr>\n",
       "      <th>10999997</th>\n",
       "      <td>1437879600000</td>\n",
       "      <td>159792</td>\n",
       "      <td>400</td>\n",
       "      <td>n552.000 639502 n720.000 424566</td>\n",
       "    </tr>\n",
       "    <tr>\n",
       "      <th>10999998</th>\n",
       "      <td>1436065200000</td>\n",
       "      <td>464846</td>\n",
       "      <td>790</td>\n",
       "      <td>n410640.000</td>\n",
       "    </tr>\n",
       "  </tbody>\n",
       "</table>\n",
       "<p>10999999 rows × 4 columns</p>\n",
       "</div>"
      ],
      "text/plain": [
       "              timestamp  itemid    property                            value\n",
       "0         1435460400000  460429  categoryid                             1338\n",
       "1         1441508400000  206783         888          1116713 960601 n277.200\n",
       "2         1439089200000  395014         400  n552.000 639502 n720.000 424566\n",
       "3         1431226800000   59481         790                       n15360.000\n",
       "4         1431831600000  156781         917                           828513\n",
       "...                 ...     ...         ...                              ...\n",
       "10999994  1439694000000   86599  categoryid                              618\n",
       "10999995  1435460400000  153032        1066                 n1020.000 424566\n",
       "10999996  1440298800000  421788         888               35975 856003 37346\n",
       "10999997  1437879600000  159792         400  n552.000 639502 n720.000 424566\n",
       "10999998  1436065200000  464846         790                      n410640.000\n",
       "\n",
       "[10999999 rows x 4 columns]"
      ]
     },
     "execution_count": 6,
     "metadata": {},
     "output_type": "execute_result"
    }
   ],
   "source": [
    "item_prop_1"
   ]
  },
  {
   "cell_type": "code",
   "execution_count": 7,
   "metadata": {},
   "outputs": [
    {
     "data": {
      "text/plain": [
       "Index(['timestamp', 'itemid', 'property', 'value'], dtype='object')"
      ]
     },
     "execution_count": 7,
     "metadata": {},
     "output_type": "execute_result"
    }
   ],
   "source": [
    "item_prop_1.columns"
   ]
  },
  {
   "cell_type": "code",
   "execution_count": 8,
   "metadata": {},
   "outputs": [],
   "source": [
    "item_prop_2 = pd.read_csv('item_properties_part2.csv', sep=',')"
   ]
  },
  {
   "cell_type": "code",
   "execution_count": 9,
   "metadata": {},
   "outputs": [],
   "source": [
    "item_props = pd.concat([item_prop_1, item_prop_2], axis=0, ignore_index=True)"
   ]
  },
  {
   "cell_type": "code",
   "execution_count": 10,
   "metadata": {},
   "outputs": [],
   "source": [
    "props_df = item_props.drop_duplicates(subset=['itemid', 'property'], ignore_index=True, keep='last')\\\n",
    "    .sort_values('itemid').reset_index(drop=True)"
   ]
  },
  {
   "cell_type": "code",
   "execution_count": 11,
   "metadata": {},
   "outputs": [],
   "source": [
    "props_df = props_df[['itemid', 'property', 'value']]"
   ]
  },
  {
   "cell_type": "code",
   "execution_count": 12,
   "metadata": {},
   "outputs": [
    {
     "data": {
      "text/html": [
       "<div>\n",
       "<style scoped>\n",
       "    .dataframe tbody tr th:only-of-type {\n",
       "        vertical-align: middle;\n",
       "    }\n",
       "\n",
       "    .dataframe tbody tr th {\n",
       "        vertical-align: top;\n",
       "    }\n",
       "\n",
       "    .dataframe thead th {\n",
       "        text-align: right;\n",
       "    }\n",
       "</style>\n",
       "<table border=\"1\" class=\"dataframe\">\n",
       "  <thead>\n",
       "    <tr style=\"text-align: right;\">\n",
       "      <th></th>\n",
       "      <th>itemid</th>\n",
       "      <th>property</th>\n",
       "      <th>value</th>\n",
       "    </tr>\n",
       "  </thead>\n",
       "  <tbody>\n",
       "    <tr>\n",
       "      <th>0</th>\n",
       "      <td>0</td>\n",
       "      <td>888</td>\n",
       "      <td>478989</td>\n",
       "    </tr>\n",
       "    <tr>\n",
       "      <th>1</th>\n",
       "      <td>0</td>\n",
       "      <td>11</td>\n",
       "      <td>n15360.000 628176 n12288.000</td>\n",
       "    </tr>\n",
       "    <tr>\n",
       "      <th>2</th>\n",
       "      <td>0</td>\n",
       "      <td>227</td>\n",
       "      <td>1152934 1238769</td>\n",
       "    </tr>\n",
       "    <tr>\n",
       "      <th>3</th>\n",
       "      <td>0</td>\n",
       "      <td>776</td>\n",
       "      <td>318611</td>\n",
       "    </tr>\n",
       "    <tr>\n",
       "      <th>4</th>\n",
       "      <td>0</td>\n",
       "      <td>127</td>\n",
       "      <td>1168476</td>\n",
       "    </tr>\n",
       "    <tr>\n",
       "      <th>...</th>\n",
       "      <td>...</td>\n",
       "      <td>...</td>\n",
       "      <td>...</td>\n",
       "    </tr>\n",
       "    <tr>\n",
       "      <th>12003809</th>\n",
       "      <td>466866</td>\n",
       "      <td>896</td>\n",
       "      <td>769062</td>\n",
       "    </tr>\n",
       "    <tr>\n",
       "      <th>12003810</th>\n",
       "      <td>466866</td>\n",
       "      <td>341</td>\n",
       "      <td>769062</td>\n",
       "    </tr>\n",
       "    <tr>\n",
       "      <th>12003811</th>\n",
       "      <td>466866</td>\n",
       "      <td>850</td>\n",
       "      <td>670753 114844 808585 1169076</td>\n",
       "    </tr>\n",
       "    <tr>\n",
       "      <th>12003812</th>\n",
       "      <td>466866</td>\n",
       "      <td>706</td>\n",
       "      <td>892415 670753 114844 808585</td>\n",
       "    </tr>\n",
       "    <tr>\n",
       "      <th>12003813</th>\n",
       "      <td>466866</td>\n",
       "      <td>6</td>\n",
       "      <td>579062 353870</td>\n",
       "    </tr>\n",
       "  </tbody>\n",
       "</table>\n",
       "<p>12003814 rows × 3 columns</p>\n",
       "</div>"
      ],
      "text/plain": [
       "          itemid property                         value\n",
       "0              0      888                        478989\n",
       "1              0       11  n15360.000 628176 n12288.000\n",
       "2              0      227               1152934 1238769\n",
       "3              0      776                        318611\n",
       "4              0      127                       1168476\n",
       "...          ...      ...                           ...\n",
       "12003809  466866      896                        769062\n",
       "12003810  466866      341                        769062\n",
       "12003811  466866      850  670753 114844 808585 1169076\n",
       "12003812  466866      706   892415 670753 114844 808585\n",
       "12003813  466866        6                 579062 353870\n",
       "\n",
       "[12003814 rows x 3 columns]"
      ]
     },
     "execution_count": 12,
     "metadata": {},
     "output_type": "execute_result"
    }
   ],
   "source": [
    "props_df"
   ]
  },
  {
   "cell_type": "markdown",
   "metadata": {},
   "source": [
    "### Check itemid intersection"
   ]
  },
  {
   "cell_type": "code",
   "execution_count": 14,
   "metadata": {},
   "outputs": [],
   "source": [
    "def is_sublist(sublist, full_list):\n",
    "    return set(sublist) <= set(full_list)"
   ]
  },
  {
   "cell_type": "code",
   "execution_count": 15,
   "metadata": {},
   "outputs": [
    {
     "data": {
      "text/plain": [
       "False"
      ]
     },
     "execution_count": 15,
     "metadata": {},
     "output_type": "execute_result"
    }
   ],
   "source": [
    "is_sublist(raw_events.itemid.values, props_df.itemid.values)"
   ]
  },
  {
   "cell_type": "markdown",
   "metadata": {},
   "source": [
    "Some itemids will have NaN in proprerties columns"
   ]
  },
  {
   "cell_type": "code",
   "execution_count": 16,
   "metadata": {},
   "outputs": [
    {
     "data": {
      "text/plain": [
       "0.7880762865809301"
      ]
     },
     "execution_count": 16,
     "metadata": {},
     "output_type": "execute_result"
    }
   ],
   "source": [
    "# Find share of itemids have presented in events.csv\n",
    "len(set(raw_events.itemid.values).intersection(set(props_df.itemid.values))) / len(set(raw_events.itemid))"
   ]
  },
  {
   "cell_type": "markdown",
   "metadata": {},
   "source": [
    "# Items factors preparing"
   ]
  },
  {
   "cell_type": "code",
   "execution_count": 22,
   "metadata": {},
   "outputs": [],
   "source": [
    "# add a property name to a property value to prevent cases when a same value for different properties\n",
    "props_df['prop_val'] = props_df['property'].astype(str) + \" \" + props_df['value'].astype(str)"
   ]
  },
  {
   "cell_type": "code",
   "execution_count": 23,
   "metadata": {},
   "outputs": [],
   "source": [
    "# availabily is temp property and doesn't help for modeling\n",
    "props_df = props_df.query('property != \"available\"')"
   ]
  },
  {
   "cell_type": "code",
   "execution_count": 25,
   "metadata": {},
   "outputs": [],
   "source": [
    "# create property and value combinations most popular\n",
    "props_cum_perc = (props_df['prop_val'].value_counts().cumsum()/props_df['prop_val'].value_counts().sum())"
   ]
  },
  {
   "cell_type": "code",
   "execution_count": 26,
   "metadata": {},
   "outputs": [],
   "source": [
    "# turn Series to DataFrame and rename colums\n",
    "props_cum_perc = props_cum_perc.to_frame().reset_index().rename(columns={'index': 'prop_val', 'prop_val': 'cum_perc'})"
   ]
  },
  {
   "cell_type": "code",
   "execution_count": 27,
   "metadata": {},
   "outputs": [],
   "source": [
    "# get property-values combinations that cover 80% of all variations\n",
    "top80_prop_val = props_cum_perc.query('cum_perc < 0.8').prop_val.values.tolist()"
   ]
  },
  {
   "cell_type": "code",
   "execution_count": 29,
   "metadata": {},
   "outputs": [
    {
     "data": {
      "text/plain": [
       "99452"
      ]
     },
     "execution_count": 29,
     "metadata": {},
     "output_type": "execute_result"
    }
   ],
   "source": [
    "len(top80_prop_val)"
   ]
  },
  {
   "cell_type": "code",
   "execution_count": 31,
   "metadata": {},
   "outputs": [],
   "source": [
    "# filter items properties\n",
    "props_df_cut = props_df.query('prop_val in @top80_prop_val')"
   ]
  },
  {
   "cell_type": "code",
   "execution_count": 32,
   "metadata": {},
   "outputs": [],
   "source": [
    "# colect all property-value combinations for each itemid - that will be out 'texts'\n",
    "items_prop_vals = props_df_cut.groupby('itemid').prop_val.unique().reset_index()"
   ]
  },
  {
   "cell_type": "code",
   "execution_count": 33,
   "metadata": {},
   "outputs": [],
   "source": [
    "items_prop_vals.loc[:, 'prop_val'] = items_prop_vals.prop_val.map(\"|||\".join)"
   ]
  },
  {
   "cell_type": "code",
   "execution_count": 34,
   "metadata": {},
   "outputs": [
    {
     "data": {
      "text/html": [
       "<div>\n",
       "<style scoped>\n",
       "    .dataframe tbody tr th:only-of-type {\n",
       "        vertical-align: middle;\n",
       "    }\n",
       "\n",
       "    .dataframe tbody tr th {\n",
       "        vertical-align: top;\n",
       "    }\n",
       "\n",
       "    .dataframe thead th {\n",
       "        text-align: right;\n",
       "    }\n",
       "</style>\n",
       "<table border=\"1\" class=\"dataframe\">\n",
       "  <thead>\n",
       "    <tr style=\"text-align: right;\">\n",
       "      <th></th>\n",
       "      <th>itemid</th>\n",
       "      <th>prop_val</th>\n",
       "    </tr>\n",
       "  </thead>\n",
       "  <tbody>\n",
       "    <tr>\n",
       "      <th>0</th>\n",
       "      <td>0</td>\n",
       "      <td>11 n15360.000 628176 n12288.000|||227 1152934 ...</td>\n",
       "    </tr>\n",
       "    <tr>\n",
       "      <th>1</th>\n",
       "      <td>1</td>\n",
       "      <td>1036 1154859|||33 1128577 1000087 421694|||296...</td>\n",
       "    </tr>\n",
       "    <tr>\n",
       "      <th>2</th>\n",
       "      <td>2</td>\n",
       "      <td>839 147366 343631|||698 822092 325894 504272||...</td>\n",
       "    </tr>\n",
       "    <tr>\n",
       "      <th>3</th>\n",
       "      <td>3</td>\n",
       "      <td>326 769062|||1025 769062|||562 769062|||689 15...</td>\n",
       "    </tr>\n",
       "    <tr>\n",
       "      <th>4</th>\n",
       "      <td>4</td>\n",
       "      <td>897 324209|||115 n24.000|||6 588652 1091491|||...</td>\n",
       "    </tr>\n",
       "    <tr>\n",
       "      <th>...</th>\n",
       "      <td>...</td>\n",
       "      <td>...</td>\n",
       "    </tr>\n",
       "    <tr>\n",
       "      <th>417048</th>\n",
       "      <td>466862</td>\n",
       "      <td>29 769062|||186 575816 n432.000|||348 1102430|...</td>\n",
       "    </tr>\n",
       "    <tr>\n",
       "      <th>417049</th>\n",
       "      <td>466863</td>\n",
       "      <td>678 1194687 550565|||881 n60.000|||790 n43320....</td>\n",
       "    </tr>\n",
       "    <tr>\n",
       "      <th>417050</th>\n",
       "      <td>466864</td>\n",
       "      <td>720 1279814 n12000.000|||159 519769|||1036 115...</td>\n",
       "    </tr>\n",
       "    <tr>\n",
       "      <th>417051</th>\n",
       "      <td>466865</td>\n",
       "      <td>277 769062|||614 668981|||698 1088309|||713 76...</td>\n",
       "    </tr>\n",
       "    <tr>\n",
       "      <th>417052</th>\n",
       "      <td>466866</td>\n",
       "      <td>873 892415 385767|||348 769062|||886 769062|||...</td>\n",
       "    </tr>\n",
       "  </tbody>\n",
       "</table>\n",
       "<p>417053 rows × 2 columns</p>\n",
       "</div>"
      ],
      "text/plain": [
       "        itemid                                           prop_val\n",
       "0            0  11 n15360.000 628176 n12288.000|||227 1152934 ...\n",
       "1            1  1036 1154859|||33 1128577 1000087 421694|||296...\n",
       "2            2  839 147366 343631|||698 822092 325894 504272||...\n",
       "3            3  326 769062|||1025 769062|||562 769062|||689 15...\n",
       "4            4  897 324209|||115 n24.000|||6 588652 1091491|||...\n",
       "...        ...                                                ...\n",
       "417048  466862  29 769062|||186 575816 n432.000|||348 1102430|...\n",
       "417049  466863  678 1194687 550565|||881 n60.000|||790 n43320....\n",
       "417050  466864  720 1279814 n12000.000|||159 519769|||1036 115...\n",
       "417051  466865  277 769062|||614 668981|||698 1088309|||713 76...\n",
       "417052  466866  873 892415 385767|||348 769062|||886 769062|||...\n",
       "\n",
       "[417053 rows x 2 columns]"
      ]
     },
     "execution_count": 34,
     "metadata": {},
     "output_type": "execute_result"
    }
   ],
   "source": [
    "items_prop_vals"
   ]
  },
  {
   "cell_type": "code",
   "execution_count": 35,
   "metadata": {},
   "outputs": [],
   "source": [
    "# Save to clean laptop memory, load this data and carry on\n",
    "items_prop_vals.to_csv('items_texts')"
   ]
  },
  {
   "cell_type": "markdown",
   "metadata": {},
   "source": [
    "# Contextual recommendations"
   ]
  },
  {
   "cell_type": "markdown",
   "metadata": {},
   "source": [
    "### Create FastText model"
   ]
  },
  {
   "cell_type": "code",
   "execution_count": 36,
   "metadata": {},
   "outputs": [],
   "source": [
    "from gensim.models import FastText"
   ]
  },
  {
   "cell_type": "code",
   "execution_count": 37,
   "metadata": {},
   "outputs": [],
   "source": [
    "items_prop_vals = pd.read_csv('items_texts', index_col=0)"
   ]
  },
  {
   "cell_type": "code",
   "execution_count": 38,
   "metadata": {},
   "outputs": [],
   "source": [
    "items_prop_vals.loc[:, 'prop_val'] = items_prop_vals.prop_val.map(lambda x: x.split('|||'))"
   ]
  },
  {
   "cell_type": "code",
   "execution_count": 39,
   "metadata": {},
   "outputs": [
    {
     "data": {
      "text/plain": [
       "count    417053.000000\n",
       "mean         22.225971\n",
       "std           7.625993\n",
       "min           5.000000\n",
       "25%          17.000000\n",
       "50%          20.000000\n",
       "75%          25.000000\n",
       "max          51.000000\n",
       "Name: prop_val, dtype: float64"
      ]
     },
     "execution_count": 39,
     "metadata": {},
     "output_type": "execute_result"
    }
   ],
   "source": [
    "# check stats about prop-val lists lenth for each itemid\n",
    "items_prop_vals.prop_val.map(len).describe()"
   ]
  },
  {
   "cell_type": "code",
   "execution_count": 40,
   "metadata": {},
   "outputs": [],
   "source": [
    "# get max count of \"words\" in text\n",
    "max_lenth = int(items_prop_vals.prop_val.map(len).describe().loc['max'])"
   ]
  },
  {
   "cell_type": "code",
   "execution_count": 41,
   "metadata": {},
   "outputs": [
    {
     "data": {
      "text/plain": [
       "51"
      ]
     },
     "execution_count": 41,
     "metadata": {},
     "output_type": "execute_result"
    }
   ],
   "source": [
    "max_lenth"
   ]
  },
  {
   "cell_type": "code",
   "execution_count": 42,
   "metadata": {},
   "outputs": [],
   "source": [
    "sentenses = items_prop_vals.prop_val.values.tolist()"
   ]
  },
  {
   "cell_type": "code",
   "execution_count": 46,
   "metadata": {},
   "outputs": [
    {
     "data": {
      "text/plain": [
       "['11 n15360.000 628176 n12288.000',\n",
       " '227 1152934 1238769',\n",
       " '127 1168476',\n",
       " '764 1285872',\n",
       " '1036 1276750',\n",
       " '698 1152934 1238769',\n",
       " '112 679677',\n",
       " '561 1294803 101489',\n",
       " '225 1301326',\n",
       " '6 66094',\n",
       " '42 n204.000',\n",
       " '839 372274',\n",
       " 'categoryid 209',\n",
       " '177 n96.000 1206660',\n",
       " '159 519769',\n",
       " '790 n91200.000',\n",
       " '139 n4800.000 270060 924073',\n",
       " '678 372274',\n",
       " '869 769062',\n",
       " '1056 n3.168 1144008',\n",
       " '189 708480']"
      ]
     },
     "execution_count": 46,
     "metadata": {},
     "output_type": "execute_result"
    }
   ],
   "source": [
    "sentenses[0]"
   ]
  },
  {
   "cell_type": "code",
   "execution_count": 47,
   "metadata": {},
   "outputs": [],
   "source": [
    "vectory_size = max_lenth"
   ]
  },
  {
   "cell_type": "code",
   "execution_count": 48,
   "metadata": {},
   "outputs": [],
   "source": [
    "modelFT = FastText(sentences=sentenses, vector_size=vectory_size, min_count=100, window=1)"
   ]
  },
  {
   "cell_type": "code",
   "execution_count": 49,
   "metadata": {},
   "outputs": [],
   "source": [
    "modelFT.save('ft.model')"
   ]
  },
  {
   "cell_type": "code",
   "execution_count": 50,
   "metadata": {},
   "outputs": [],
   "source": [
    "modelFT = FastText.load('ft.model')"
   ]
  },
  {
   "cell_type": "code",
   "execution_count": 51,
   "metadata": {},
   "outputs": [],
   "source": [
    "import numpy as np\n",
    "import annoy\n",
    "from tqdm import tqdm"
   ]
  },
  {
   "cell_type": "code",
   "execution_count": 52,
   "metadata": {},
   "outputs": [],
   "source": [
    "items_prop_vals = items_prop_vals.reset_index(drop=True)"
   ]
  },
  {
   "cell_type": "code",
   "execution_count": 54,
   "metadata": {},
   "outputs": [
    {
     "name": "stderr",
     "output_type": "stream",
     "text": [
      "100%|██████████| 417053/417053 [02:45<00:00, 2519.48it/s]\n"
     ]
    },
    {
     "data": {
      "text/plain": [
       "True"
      ]
     },
     "execution_count": 54,
     "metadata": {},
     "output_type": "execute_result"
    }
   ],
   "source": [
    "ft_index = annoy.AnnoyIndex(max_lenth ,'angular')\n",
    "\n",
    "index_to_counter = {}\n",
    "counter = 0\n",
    "\n",
    "for i in tqdm(range(len(items_prop_vals))):\n",
    "    n_ft = 0\n",
    "    index_to_counter[counter] = items_prop_vals.loc[i, \"itemid\"]\n",
    "    vector_ft = np.zeros(max_lenth)\n",
    "    # Каждое слово обернем в эмбеддинг\n",
    "    for word in items_prop_vals.loc[i, 'prop_val']:\n",
    "        word_str = str(word)\n",
    "        if word in modelFT.wv:\n",
    "            vector_ft += modelFT.wv[word_str]\n",
    "            n_ft += 1\n",
    "    if n_ft > 0:\n",
    "        vector_ft = vector_ft / n_ft\n",
    "    ft_index.add_item(counter, vector_ft)\n",
    "    counter += 1\n",
    "\n",
    "# \n",
    "ft_index.build(10)"
   ]
  },
  {
   "cell_type": "code",
   "execution_count": 55,
   "metadata": {},
   "outputs": [
    {
     "data": {
      "text/plain": [
       "[82381, 105494, 101640]"
      ]
     },
     "execution_count": 55,
     "metadata": {},
     "output_type": "execute_result"
    }
   ],
   "source": [
    "def recommend(itemid, n_recomms=3):\n",
    "    # Получим тайтл айтема по идентификатору\n",
    "\n",
    "    prop_vals = items_prop_vals.query('itemid == @itemid').values\n",
    "    \n",
    "    vector_ft = np.zeros(max_lenth)\n",
    "    n_ft = 0\n",
    "    # Каждое слово обернем в эмбеддинг\n",
    "    for word in prop_vals:\n",
    "        word_str = str(word)\n",
    "        if word in modelFT.wv:\n",
    "            vector_ft += modelFT.wv[word_str]\n",
    "            n_ft += 1\n",
    "    if n_ft > 0:\n",
    "        vector_ft = vector_ft / n_ft\n",
    "    # Найдем ближайшие по тайтлу\n",
    "    rec_items = ft_index.get_nns_by_vector(vector_ft, n_recomms+1)\n",
    "    recommendations =  [index_to_counter[i] for i in rec_items]\n",
    "    if itemid in recommendations:\n",
    "        recommendations.remove(itemid)\n",
    "        return recommendations\n",
    "    return recommendations[: -1]\n",
    "\n",
    "recommend(466862)"
   ]
  },
  {
   "cell_type": "code",
   "execution_count": 56,
   "metadata": {},
   "outputs": [],
   "source": [
    "visitors_transactions = raw_events.query('event == \"transaction\"').groupby('visitorid').itemid.unique().reset_index()"
   ]
  },
  {
   "cell_type": "code",
   "execution_count": 57,
   "metadata": {},
   "outputs": [],
   "source": [
    "vis_trans_above1 = visitors_transactions[\n",
    "    visitors_transactions.itemid.map(len) > 1\n",
    "    ]"
   ]
  },
  {
   "cell_type": "code",
   "execution_count": 58,
   "metadata": {},
   "outputs": [
    {
     "name": "stderr",
     "output_type": "stream",
     "text": [
      "2174it [00:11, 191.77it/s]\n"
     ]
    },
    {
     "data": {
      "text/plain": [
       "0.0011661973433455643"
      ]
     },
     "execution_count": 58,
     "metadata": {},
     "output_type": "execute_result"
    }
   ],
   "source": [
    "map_at3 = 0\n",
    "couter = 0\n",
    "\n",
    "for _, data in tqdm(vis_trans_above1.iterrows()):\n",
    "    last_bought_item = data['itemid'][-1]\n",
    "    # print('Last bought item')\n",
    "    # print(last_bought_item)\n",
    "    \n",
    "    all_bought_items = set(data['itemid']) - set([last_bought_item])\n",
    "    # print('All bouth items')\n",
    "    # print(all_bought_items)\n",
    "    recommendations = []\n",
    "    recommendations = set(recommend(last_bought_item, 3))\n",
    "    # print('Recommendations')\n",
    "    # print(recommendations)\n",
    "    \n",
    "    map_at3 += len(all_bought_items.intersection(recommendations)) / len(recommendations)\n",
    "    counter += 1\n",
    "    # break\n",
    "map_at3 = map_at3 / len(visitors_transactions)\n",
    "map_at3"
   ]
  },
  {
   "cell_type": "code",
   "execution_count": 59,
   "metadata": {},
   "outputs": [
    {
     "name": "stdout",
     "output_type": "stream",
     "text": [
      "Mean Average Precision at 3: 0.12%\n"
     ]
    }
   ],
   "source": [
    "print('Mean Average Precision at 3: {:.2%}'.format(map_at3))"
   ]
  },
  {
   "cell_type": "markdown",
   "metadata": {},
   "source": [
    "# Collaborative filtering"
   ]
  },
  {
   "cell_type": "code",
   "execution_count": 60,
   "metadata": {},
   "outputs": [],
   "source": [
    "from scipy.sparse import csr_matrix\n",
    "from pandas.api.types import CategoricalDtype\n",
    "from sklearn.model_selection import train_test_split\n",
    "import lightfm"
   ]
  },
  {
   "cell_type": "code",
   "execution_count": 61,
   "metadata": {},
   "outputs": [],
   "source": [
    "train, test = train_test_split(raw_events.query('event == \"transaction\"'), test_size=0.3, shuffle=False)"
   ]
  },
  {
   "cell_type": "code",
   "execution_count": 62,
   "metadata": {},
   "outputs": [
    {
     "data": {
      "text/html": [
       "<div>\n",
       "<style scoped>\n",
       "    .dataframe tbody tr th:only-of-type {\n",
       "        vertical-align: middle;\n",
       "    }\n",
       "\n",
       "    .dataframe tbody tr th {\n",
       "        vertical-align: top;\n",
       "    }\n",
       "\n",
       "    .dataframe thead th {\n",
       "        text-align: right;\n",
       "    }\n",
       "</style>\n",
       "<table border=\"1\" class=\"dataframe\">\n",
       "  <thead>\n",
       "    <tr style=\"text-align: right;\">\n",
       "      <th></th>\n",
       "      <th>timestamp</th>\n",
       "      <th>visitorid</th>\n",
       "      <th>event</th>\n",
       "      <th>itemid</th>\n",
       "      <th>transactionid</th>\n",
       "    </tr>\n",
       "  </thead>\n",
       "  <tbody>\n",
       "    <tr>\n",
       "      <th>1944943</th>\n",
       "      <td>1432692565573</td>\n",
       "      <td>404403</td>\n",
       "      <td>transaction</td>\n",
       "      <td>218626</td>\n",
       "      <td>5610.0</td>\n",
       "    </tr>\n",
       "    <tr>\n",
       "      <th>1945138</th>\n",
       "      <td>1432661976535</td>\n",
       "      <td>1050485</td>\n",
       "      <td>transaction</td>\n",
       "      <td>45870</td>\n",
       "      <td>2384.0</td>\n",
       "    </tr>\n",
       "    <tr>\n",
       "      <th>1945211</th>\n",
       "      <td>1432663302215</td>\n",
       "      <td>327437</td>\n",
       "      <td>transaction</td>\n",
       "      <td>215522</td>\n",
       "      <td>1785.0</td>\n",
       "    </tr>\n",
       "    <tr>\n",
       "      <th>1945394</th>\n",
       "      <td>1432695433085</td>\n",
       "      <td>286616</td>\n",
       "      <td>transaction</td>\n",
       "      <td>27832</td>\n",
       "      <td>9114.0</td>\n",
       "    </tr>\n",
       "    <tr>\n",
       "      <th>1945399</th>\n",
       "      <td>1432698340626</td>\n",
       "      <td>958255</td>\n",
       "      <td>transaction</td>\n",
       "      <td>340800</td>\n",
       "      <td>16796.0</td>\n",
       "    </tr>\n",
       "    <tr>\n",
       "      <th>...</th>\n",
       "      <td>...</td>\n",
       "      <td>...</td>\n",
       "      <td>...</td>\n",
       "      <td>...</td>\n",
       "      <td>...</td>\n",
       "    </tr>\n",
       "    <tr>\n",
       "      <th>2755294</th>\n",
       "      <td>1438377176570</td>\n",
       "      <td>1050575</td>\n",
       "      <td>transaction</td>\n",
       "      <td>31640</td>\n",
       "      <td>8354.0</td>\n",
       "    </tr>\n",
       "    <tr>\n",
       "      <th>2755349</th>\n",
       "      <td>1438379878779</td>\n",
       "      <td>861299</td>\n",
       "      <td>transaction</td>\n",
       "      <td>456602</td>\n",
       "      <td>3643.0</td>\n",
       "    </tr>\n",
       "    <tr>\n",
       "      <th>2755508</th>\n",
       "      <td>1438357730123</td>\n",
       "      <td>855941</td>\n",
       "      <td>transaction</td>\n",
       "      <td>235771</td>\n",
       "      <td>4385.0</td>\n",
       "    </tr>\n",
       "    <tr>\n",
       "      <th>2755603</th>\n",
       "      <td>1438355560300</td>\n",
       "      <td>548772</td>\n",
       "      <td>transaction</td>\n",
       "      <td>29167</td>\n",
       "      <td>13872.0</td>\n",
       "    </tr>\n",
       "    <tr>\n",
       "      <th>2755607</th>\n",
       "      <td>1438358989163</td>\n",
       "      <td>1051054</td>\n",
       "      <td>transaction</td>\n",
       "      <td>312728</td>\n",
       "      <td>17579.0</td>\n",
       "    </tr>\n",
       "  </tbody>\n",
       "</table>\n",
       "<p>6738 rows × 5 columns</p>\n",
       "</div>"
      ],
      "text/plain": [
       "             timestamp  visitorid        event  itemid  transactionid\n",
       "1944943  1432692565573     404403  transaction  218626         5610.0\n",
       "1945138  1432661976535    1050485  transaction   45870         2384.0\n",
       "1945211  1432663302215     327437  transaction  215522         1785.0\n",
       "1945394  1432695433085     286616  transaction   27832         9114.0\n",
       "1945399  1432698340626     958255  transaction  340800        16796.0\n",
       "...                ...        ...          ...     ...            ...\n",
       "2755294  1438377176570    1050575  transaction   31640         8354.0\n",
       "2755349  1438379878779     861299  transaction  456602         3643.0\n",
       "2755508  1438357730123     855941  transaction  235771         4385.0\n",
       "2755603  1438355560300     548772  transaction   29167        13872.0\n",
       "2755607  1438358989163    1051054  transaction  312728        17579.0\n",
       "\n",
       "[6738 rows x 5 columns]"
      ]
     },
     "execution_count": 62,
     "metadata": {},
     "output_type": "execute_result"
    }
   ],
   "source": [
    "test"
   ]
  },
  {
   "cell_type": "code",
   "execution_count": 63,
   "metadata": {},
   "outputs": [],
   "source": [
    "from lightfm.evaluation import precision_at_k"
   ]
  },
  {
   "cell_type": "code",
   "execution_count": 64,
   "metadata": {},
   "outputs": [],
   "source": [
    "from lightfm.data import Dataset"
   ]
  },
  {
   "cell_type": "code",
   "execution_count": 65,
   "metadata": {},
   "outputs": [],
   "source": [
    "# all_visitorids = raw_events.query('event == \"transaction\"').visitorid.unique()\n",
    "# all_itemids = raw_events.query('event == \"transaction\"').itemid.unique()\n",
    "\n",
    "all_visitorids = raw_events.visitorid.unique()\n",
    "all_itemids = raw_events.itemid.unique()"
   ]
  },
  {
   "cell_type": "code",
   "execution_count": 66,
   "metadata": {},
   "outputs": [],
   "source": [
    "dataset = Dataset()"
   ]
  },
  {
   "cell_type": "code",
   "execution_count": 67,
   "metadata": {},
   "outputs": [],
   "source": [
    "dataset.fit(users=all_visitorids, items=all_itemids)"
   ]
  },
  {
   "cell_type": "code",
   "execution_count": 68,
   "metadata": {},
   "outputs": [],
   "source": [
    "# train_coo = dataset.build_interactions(train[['visitorid', 'itemid']].values)\n",
    "train_coo = dataset.build_interactions(train.query('event ==\"transaction\"')[['visitorid', 'itemid']].values)"
   ]
  },
  {
   "cell_type": "code",
   "execution_count": 69,
   "metadata": {},
   "outputs": [],
   "source": [
    "# test_coo = dataset.build_interactions(test[['visitorid', 'itemid']].values)\n",
    "test_coo = dataset.build_interactions(test.query('event ==\"transaction\"')[['visitorid', 'itemid']].values)"
   ]
  },
  {
   "cell_type": "code",
   "execution_count": 70,
   "metadata": {},
   "outputs": [
    {
     "data": {
      "text/plain": [
       "<lightfm.lightfm.LightFM at 0x7f02629b7fa0>"
      ]
     },
     "execution_count": 70,
     "metadata": {},
     "output_type": "execute_result"
    }
   ],
   "source": [
    "model = lightfm.LightFM(loss='warp')\n",
    "model.fit(train_coo[0], epochs=30)"
   ]
  },
  {
   "cell_type": "code",
   "execution_count": 71,
   "metadata": {},
   "outputs": [
    {
     "name": "stdout",
     "output_type": "stream",
     "text": [
      "Mean Average Precision at 3: 0.93%\n"
     ]
    }
   ],
   "source": [
    "p_at3 = precision_at_k(model, test_coo[0], k=3).mean()\n",
    "print('Mean Average Precision at 3: {:.2%}'.format(p_at3))"
   ]
  },
  {
   "cell_type": "markdown",
   "metadata": {},
   "source": [
    "# ALS"
   ]
  },
  {
   "cell_type": "code",
   "execution_count": 72,
   "metadata": {},
   "outputs": [
    {
     "name": "stderr",
     "output_type": "stream",
     "text": [
      "/home/max/.pyenv/versions/3.8.15/envs/python38env/lib/python3.8/site-packages/tqdm/auto.py:22: TqdmWarning: IProgress not found. Please update jupyter and ipywidgets. See https://ipywidgets.readthedocs.io/en/stable/user_install.html\n",
      "  from .autonotebook import tqdm as notebook_tqdm\n"
     ]
    }
   ],
   "source": [
    "from implicit.als import AlternatingLeastSquares\n",
    "from implicit.evaluation import mean_average_precision_at_k"
   ]
  },
  {
   "cell_type": "code",
   "execution_count": 73,
   "metadata": {},
   "outputs": [
    {
     "name": "stderr",
     "output_type": "stream",
     "text": [
      "/home/max/.pyenv/versions/3.8.15/envs/python38env/lib/python3.8/site-packages/implicit/utils.py:138: ParameterWarning: Method expects CSR input, and was passed coo_matrix instead. Converting to CSR took 0.01263570785522461 seconds\n",
      "  warnings.warn(\n",
      "100%|██████████| 15/15 [00:02<00:00,  5.21it/s]\n"
     ]
    }
   ],
   "source": [
    "model = AlternatingLeastSquares(factors=10, random_state=42)\n",
    "model.fit(train_coo[0])"
   ]
  },
  {
   "cell_type": "code",
   "execution_count": 74,
   "metadata": {},
   "outputs": [
    {
     "name": "stderr",
     "output_type": "stream",
     "text": [
      "100%|██████████| 3476/3476 [00:06<00:00, 558.06it/s]"
     ]
    },
    {
     "name": "stdout",
     "output_type": "stream",
     "text": [
      "Mean Average Precision at 3: 0.09%\n"
     ]
    },
    {
     "name": "stderr",
     "output_type": "stream",
     "text": [
      "\n"
     ]
    }
   ],
   "source": [
    "p_at3_als = mean_average_precision_at_k(model, train_coo[0], test_coo[0], K=3)\n",
    "print('Mean Average Precision at 3: {:.2%}'.format(p_at3_als))"
   ]
  },
  {
   "cell_type": "markdown",
   "metadata": {},
   "source": [
    "# XGBoost"
   ]
  },
  {
   "cell_type": "markdown",
   "metadata": {},
   "source": [
    "Bad idea because of extreme class disbalancing (0.87% data share is 1 class). But we'll try..."
   ]
  },
  {
   "cell_type": "code",
   "execution_count": 71,
   "metadata": {},
   "outputs": [],
   "source": [
    "import pandas as pd\n",
    "from xgboost import XGBClassifier\n",
    "\n",
    "from sklearn.model_selection import train_test_split"
   ]
  },
  {
   "cell_type": "code",
   "execution_count": 19,
   "metadata": {},
   "outputs": [],
   "source": [
    "items_prop_vals = pd.read_csv('items_texts', index_col=0)"
   ]
  },
  {
   "cell_type": "code",
   "execution_count": 29,
   "metadata": {},
   "outputs": [],
   "source": [
    "items_prop_vals['prop_val'] = items_prop_vals['prop_val'].map(lambda x: x.replace(' ', \"_\"))"
   ]
  },
  {
   "cell_type": "code",
   "execution_count": 30,
   "metadata": {},
   "outputs": [],
   "source": [
    "# Create a sentences of property-values\n",
    "\n",
    "items_prop_vals['prop_val'] = items_prop_vals['prop_val'].map(lambda x: x.replace('|||', \" \"))"
   ]
  },
  {
   "cell_type": "code",
   "execution_count": 31,
   "metadata": {},
   "outputs": [
    {
     "data": {
      "text/html": [
       "<div>\n",
       "<style scoped>\n",
       "    .dataframe tbody tr th:only-of-type {\n",
       "        vertical-align: middle;\n",
       "    }\n",
       "\n",
       "    .dataframe tbody tr th {\n",
       "        vertical-align: top;\n",
       "    }\n",
       "\n",
       "    .dataframe thead th {\n",
       "        text-align: right;\n",
       "    }\n",
       "</style>\n",
       "<table border=\"1\" class=\"dataframe\">\n",
       "  <thead>\n",
       "    <tr style=\"text-align: right;\">\n",
       "      <th></th>\n",
       "      <th>itemid</th>\n",
       "      <th>prop_val</th>\n",
       "    </tr>\n",
       "  </thead>\n",
       "  <tbody>\n",
       "    <tr>\n",
       "      <th>0</th>\n",
       "      <td>0</td>\n",
       "      <td>11_n15360.000_628176_n12288.000 227_1152934_12...</td>\n",
       "    </tr>\n",
       "    <tr>\n",
       "      <th>1</th>\n",
       "      <td>1</td>\n",
       "      <td>1036_1154859 33_1128577_1000087_421694 296_866...</td>\n",
       "    </tr>\n",
       "    <tr>\n",
       "      <th>2</th>\n",
       "      <td>2</td>\n",
       "      <td>839_147366_343631 698_822092_325894_504272 332...</td>\n",
       "    </tr>\n",
       "    <tr>\n",
       "      <th>3</th>\n",
       "      <td>3</td>\n",
       "      <td>326_769062 1025_769062 562_769062 689_150169_1...</td>\n",
       "    </tr>\n",
       "    <tr>\n",
       "      <th>4</th>\n",
       "      <td>4</td>\n",
       "      <td>897_324209 115_n24.000 6_588652_1091491 841_13...</td>\n",
       "    </tr>\n",
       "    <tr>\n",
       "      <th>...</th>\n",
       "      <td>...</td>\n",
       "      <td>...</td>\n",
       "    </tr>\n",
       "    <tr>\n",
       "      <th>417048</th>\n",
       "      <td>466862</td>\n",
       "      <td>29_769062 186_575816_n432.000 348_1102430 546_...</td>\n",
       "    </tr>\n",
       "    <tr>\n",
       "      <th>417049</th>\n",
       "      <td>466863</td>\n",
       "      <td>678_1194687_550565 881_n60.000 790_n43320.000 ...</td>\n",
       "    </tr>\n",
       "    <tr>\n",
       "      <th>417050</th>\n",
       "      <td>466864</td>\n",
       "      <td>720_1279814_n12000.000 159_519769 1036_1154859...</td>\n",
       "    </tr>\n",
       "    <tr>\n",
       "      <th>417051</th>\n",
       "      <td>466865</td>\n",
       "      <td>277_769062 614_668981 698_1088309 713_769062 9...</td>\n",
       "    </tr>\n",
       "    <tr>\n",
       "      <th>417052</th>\n",
       "      <td>466866</td>\n",
       "      <td>873_892415_385767 348_769062 886_769062 790_n1...</td>\n",
       "    </tr>\n",
       "  </tbody>\n",
       "</table>\n",
       "<p>417053 rows × 2 columns</p>\n",
       "</div>"
      ],
      "text/plain": [
       "        itemid                                           prop_val\n",
       "0            0  11_n15360.000_628176_n12288.000 227_1152934_12...\n",
       "1            1  1036_1154859 33_1128577_1000087_421694 296_866...\n",
       "2            2  839_147366_343631 698_822092_325894_504272 332...\n",
       "3            3  326_769062 1025_769062 562_769062 689_150169_1...\n",
       "4            4  897_324209 115_n24.000 6_588652_1091491 841_13...\n",
       "...        ...                                                ...\n",
       "417048  466862  29_769062 186_575816_n432.000 348_1102430 546_...\n",
       "417049  466863  678_1194687_550565 881_n60.000 790_n43320.000 ...\n",
       "417050  466864  720_1279814_n12000.000 159_519769 1036_1154859...\n",
       "417051  466865  277_769062 614_668981 698_1088309 713_769062 9...\n",
       "417052  466866  873_892415_385767 348_769062 886_769062 790_n1...\n",
       "\n",
       "[417053 rows x 2 columns]"
      ]
     },
     "execution_count": 31,
     "metadata": {},
     "output_type": "execute_result"
    }
   ],
   "source": [
    "items_prop_vals"
   ]
  },
  {
   "cell_type": "code",
   "execution_count": 32,
   "metadata": {},
   "outputs": [],
   "source": [
    "dataset = pd.merge(left=raw_events, right=items_prop_vals, on='itemid', how='inner')\\\n",
    "    .dropna(subset=['itemid'])\n",
    "\n",
    "dataset['datetime'] = pd.to_datetime(dataset['timestamp'], unit='ms')\n",
    "dataset['day_of_week'] = dataset['datetime'].dt.weekday\n",
    "dataset['month'] = dataset['datetime'].dt.month\n",
    "dataset['day'] = dataset['datetime'].dt.day\n",
    "dataset['hour'] = dataset['datetime'].dt.hour\n",
    "dataset['minute'] = dataset['datetime'].dt.minute\n",
    "dataset['target'] = 1 - dataset['transactionid'].isna()\n",
    "dataset = dataset.sort_values('timestamp')"
   ]
  },
  {
   "cell_type": "code",
   "execution_count": 39,
   "metadata": {},
   "outputs": [
    {
     "data": {
      "text/html": [
       "<div>\n",
       "<style scoped>\n",
       "    .dataframe tbody tr th:only-of-type {\n",
       "        vertical-align: middle;\n",
       "    }\n",
       "\n",
       "    .dataframe tbody tr th {\n",
       "        vertical-align: top;\n",
       "    }\n",
       "\n",
       "    .dataframe thead th {\n",
       "        text-align: right;\n",
       "    }\n",
       "</style>\n",
       "<table border=\"1\" class=\"dataframe\">\n",
       "  <thead>\n",
       "    <tr style=\"text-align: right;\">\n",
       "      <th></th>\n",
       "      <th>timestamp</th>\n",
       "      <th>visitorid</th>\n",
       "      <th>event</th>\n",
       "      <th>itemid</th>\n",
       "      <th>prop_val</th>\n",
       "      <th>day_of_week</th>\n",
       "      <th>month</th>\n",
       "      <th>day</th>\n",
       "      <th>hour</th>\n",
       "      <th>minute</th>\n",
       "      <th>target</th>\n",
       "    </tr>\n",
       "  </thead>\n",
       "  <tbody>\n",
       "    <tr>\n",
       "      <th>1298902</th>\n",
       "      <td>1430622004384</td>\n",
       "      <td>693516</td>\n",
       "      <td>addtocart</td>\n",
       "      <td>297662</td>\n",
       "      <td>678_820477 790_n14280.000 884_769062 159_51976...</td>\n",
       "      <td>6</td>\n",
       "      <td>5</td>\n",
       "      <td>3</td>\n",
       "      <td>3</td>\n",
       "      <td>0</td>\n",
       "      <td>0</td>\n",
       "    </tr>\n",
       "    <tr>\n",
       "      <th>213171</th>\n",
       "      <td>1430622011289</td>\n",
       "      <td>829044</td>\n",
       "      <td>view</td>\n",
       "      <td>60987</td>\n",
       "      <td>120_769062 809_769062 1_1021755 112_679677 764...</td>\n",
       "      <td>6</td>\n",
       "      <td>5</td>\n",
       "      <td>3</td>\n",
       "      <td>3</td>\n",
       "      <td>0</td>\n",
       "      <td>0</td>\n",
       "    </tr>\n",
       "    <tr>\n",
       "      <th>1456585</th>\n",
       "      <td>1430622024154</td>\n",
       "      <td>1125936</td>\n",
       "      <td>view</td>\n",
       "      <td>33661</td>\n",
       "      <td>764_1285872 6_550504_827388 categoryid_1628 79...</td>\n",
       "      <td>6</td>\n",
       "      <td>5</td>\n",
       "      <td>3</td>\n",
       "      <td>3</td>\n",
       "      <td>0</td>\n",
       "      <td>0</td>\n",
       "    </tr>\n",
       "    <tr>\n",
       "      <th>1298901</th>\n",
       "      <td>1430622026228</td>\n",
       "      <td>693516</td>\n",
       "      <td>view</td>\n",
       "      <td>297662</td>\n",
       "      <td>678_820477 790_n14280.000 884_769062 159_51976...</td>\n",
       "      <td>6</td>\n",
       "      <td>5</td>\n",
       "      <td>3</td>\n",
       "      <td>3</td>\n",
       "      <td>0</td>\n",
       "      <td>0</td>\n",
       "    </tr>\n",
       "    <tr>\n",
       "      <th>652199</th>\n",
       "      <td>1430622027031</td>\n",
       "      <td>1149227</td>\n",
       "      <td>view</td>\n",
       "      <td>29757</td>\n",
       "      <td>689_471783_827388 71_376905 19_769062 558_6403...</td>\n",
       "      <td>6</td>\n",
       "      <td>5</td>\n",
       "      <td>3</td>\n",
       "      <td>3</td>\n",
       "      <td>0</td>\n",
       "      <td>0</td>\n",
       "    </tr>\n",
       "    <tr>\n",
       "      <th>...</th>\n",
       "      <td>...</td>\n",
       "      <td>...</td>\n",
       "      <td>...</td>\n",
       "      <td>...</td>\n",
       "      <td>...</td>\n",
       "      <td>...</td>\n",
       "      <td>...</td>\n",
       "      <td>...</td>\n",
       "      <td>...</td>\n",
       "      <td>...</td>\n",
       "      <td>...</td>\n",
       "    </tr>\n",
       "    <tr>\n",
       "      <th>2425354</th>\n",
       "      <td>1442545164029</td>\n",
       "      <td>472345</td>\n",
       "      <td>view</td>\n",
       "      <td>301436</td>\n",
       "      <td>332_n60.000 689_150169_1037891 6_253511 277_n1...</td>\n",
       "      <td>4</td>\n",
       "      <td>9</td>\n",
       "      <td>18</td>\n",
       "      <td>2</td>\n",
       "      <td>59</td>\n",
       "      <td>0</td>\n",
       "    </tr>\n",
       "    <tr>\n",
       "      <th>2000475</th>\n",
       "      <td>1442545165499</td>\n",
       "      <td>1207677</td>\n",
       "      <td>view</td>\n",
       "      <td>310922</td>\n",
       "      <td>227_21098_980118 1032_769062 464_n51.600 550_7...</td>\n",
       "      <td>4</td>\n",
       "      <td>9</td>\n",
       "      <td>18</td>\n",
       "      <td>2</td>\n",
       "      <td>59</td>\n",
       "      <td>0</td>\n",
       "    </tr>\n",
       "    <tr>\n",
       "      <th>2407648</th>\n",
       "      <td>1442545174109</td>\n",
       "      <td>255126</td>\n",
       "      <td>view</td>\n",
       "      <td>47467</td>\n",
       "      <td>689_150169_435459_16718 653_1314495_237874_536...</td>\n",
       "      <td>4</td>\n",
       "      <td>9</td>\n",
       "      <td>18</td>\n",
       "      <td>2</td>\n",
       "      <td>59</td>\n",
       "      <td>0</td>\n",
       "    </tr>\n",
       "    <tr>\n",
       "      <th>827626</th>\n",
       "      <td>1442545181778</td>\n",
       "      <td>622226</td>\n",
       "      <td>view</td>\n",
       "      <td>345308</td>\n",
       "      <td>434_769062 6_985131 764_1285872 243_985131 960...</td>\n",
       "      <td>4</td>\n",
       "      <td>9</td>\n",
       "      <td>18</td>\n",
       "      <td>2</td>\n",
       "      <td>59</td>\n",
       "      <td>0</td>\n",
       "    </tr>\n",
       "    <tr>\n",
       "      <th>1725526</th>\n",
       "      <td>1442545187788</td>\n",
       "      <td>1287495</td>\n",
       "      <td>view</td>\n",
       "      <td>98299</td>\n",
       "      <td>678_862730 550_769062 456_769062 698_98606_474...</td>\n",
       "      <td>4</td>\n",
       "      <td>9</td>\n",
       "      <td>18</td>\n",
       "      <td>2</td>\n",
       "      <td>59</td>\n",
       "      <td>0</td>\n",
       "    </tr>\n",
       "  </tbody>\n",
       "</table>\n",
       "<p>2500516 rows × 11 columns</p>\n",
       "</div>"
      ],
      "text/plain": [
       "             timestamp  visitorid      event  itemid  \\\n",
       "1298902  1430622004384     693516  addtocart  297662   \n",
       "213171   1430622011289     829044       view   60987   \n",
       "1456585  1430622024154    1125936       view   33661   \n",
       "1298901  1430622026228     693516       view  297662   \n",
       "652199   1430622027031    1149227       view   29757   \n",
       "...                ...        ...        ...     ...   \n",
       "2425354  1442545164029     472345       view  301436   \n",
       "2000475  1442545165499    1207677       view  310922   \n",
       "2407648  1442545174109     255126       view   47467   \n",
       "827626   1442545181778     622226       view  345308   \n",
       "1725526  1442545187788    1287495       view   98299   \n",
       "\n",
       "                                                  prop_val  day_of_week  \\\n",
       "1298902  678_820477 790_n14280.000 884_769062 159_51976...            6   \n",
       "213171   120_769062 809_769062 1_1021755 112_679677 764...            6   \n",
       "1456585  764_1285872 6_550504_827388 categoryid_1628 79...            6   \n",
       "1298901  678_820477 790_n14280.000 884_769062 159_51976...            6   \n",
       "652199   689_471783_827388 71_376905 19_769062 558_6403...            6   \n",
       "...                                                    ...          ...   \n",
       "2425354  332_n60.000 689_150169_1037891 6_253511 277_n1...            4   \n",
       "2000475  227_21098_980118 1032_769062 464_n51.600 550_7...            4   \n",
       "2407648  689_150169_435459_16718 653_1314495_237874_536...            4   \n",
       "827626   434_769062 6_985131 764_1285872 243_985131 960...            4   \n",
       "1725526  678_862730 550_769062 456_769062 698_98606_474...            4   \n",
       "\n",
       "         month  day  hour  minute  target  \n",
       "1298902      5    3     3       0       0  \n",
       "213171       5    3     3       0       0  \n",
       "1456585      5    3     3       0       0  \n",
       "1298901      5    3     3       0       0  \n",
       "652199       5    3     3       0       0  \n",
       "...        ...  ...   ...     ...     ...  \n",
       "2425354      9   18     2      59       0  \n",
       "2000475      9   18     2      59       0  \n",
       "2407648      9   18     2      59       0  \n",
       "827626       9   18     2      59       0  \n",
       "1725526      9   18     2      59       0  \n",
       "\n",
       "[2500516 rows x 11 columns]"
      ]
     },
     "execution_count": 39,
     "metadata": {},
     "output_type": "execute_result"
    }
   ],
   "source": [
    "dataset"
   ]
  },
  {
   "cell_type": "code",
   "execution_count": 40,
   "metadata": {},
   "outputs": [],
   "source": [
    "dataset['target'] = 1 - dataset['transactionid'].isna()\n",
    "dataset = dataset.drop(['transactionid', 'datetime', 'event'], axis=1)"
   ]
  },
  {
   "cell_type": "code",
   "execution_count": 41,
   "metadata": {},
   "outputs": [],
   "source": [
    "dataset.drop('event', axis=1, inplace=True)"
   ]
  },
  {
   "cell_type": "code",
   "execution_count": 44,
   "metadata": {},
   "outputs": [],
   "source": [
    "cat_features = ['visitorid', 'itemid', 'day_of_week',\n",
    "       'month', 'day', 'hour', 'minute']\n",
    "target = 'target'\n",
    "num_features = 'timestamp'\n",
    "text_features = 'prop_val'\n",
    "\n",
    "# dataset[cat_features] = dataset[cat_features].astype('category')"
   ]
  },
  {
   "cell_type": "code",
   "execution_count": 49,
   "metadata": {},
   "outputs": [
    {
     "data": {
      "text/html": [
       "<div>\n",
       "<style scoped>\n",
       "    .dataframe tbody tr th:only-of-type {\n",
       "        vertical-align: middle;\n",
       "    }\n",
       "\n",
       "    .dataframe tbody tr th {\n",
       "        vertical-align: top;\n",
       "    }\n",
       "\n",
       "    .dataframe thead th {\n",
       "        text-align: right;\n",
       "    }\n",
       "</style>\n",
       "<table border=\"1\" class=\"dataframe\">\n",
       "  <thead>\n",
       "    <tr style=\"text-align: right;\">\n",
       "      <th></th>\n",
       "      <th>visitorid</th>\n",
       "      <th>itemid</th>\n",
       "      <th>day_of_week</th>\n",
       "      <th>month</th>\n",
       "      <th>day</th>\n",
       "      <th>hour</th>\n",
       "      <th>minute</th>\n",
       "    </tr>\n",
       "  </thead>\n",
       "  <tbody>\n",
       "    <tr>\n",
       "      <th>1298902</th>\n",
       "      <td>693516</td>\n",
       "      <td>297662</td>\n",
       "      <td>6</td>\n",
       "      <td>5</td>\n",
       "      <td>3</td>\n",
       "      <td>3</td>\n",
       "      <td>0</td>\n",
       "    </tr>\n",
       "    <tr>\n",
       "      <th>213171</th>\n",
       "      <td>829044</td>\n",
       "      <td>60987</td>\n",
       "      <td>6</td>\n",
       "      <td>5</td>\n",
       "      <td>3</td>\n",
       "      <td>3</td>\n",
       "      <td>0</td>\n",
       "    </tr>\n",
       "    <tr>\n",
       "      <th>1456585</th>\n",
       "      <td>1125936</td>\n",
       "      <td>33661</td>\n",
       "      <td>6</td>\n",
       "      <td>5</td>\n",
       "      <td>3</td>\n",
       "      <td>3</td>\n",
       "      <td>0</td>\n",
       "    </tr>\n",
       "    <tr>\n",
       "      <th>1298901</th>\n",
       "      <td>693516</td>\n",
       "      <td>297662</td>\n",
       "      <td>6</td>\n",
       "      <td>5</td>\n",
       "      <td>3</td>\n",
       "      <td>3</td>\n",
       "      <td>0</td>\n",
       "    </tr>\n",
       "    <tr>\n",
       "      <th>652199</th>\n",
       "      <td>1149227</td>\n",
       "      <td>29757</td>\n",
       "      <td>6</td>\n",
       "      <td>5</td>\n",
       "      <td>3</td>\n",
       "      <td>3</td>\n",
       "      <td>0</td>\n",
       "    </tr>\n",
       "    <tr>\n",
       "      <th>...</th>\n",
       "      <td>...</td>\n",
       "      <td>...</td>\n",
       "      <td>...</td>\n",
       "      <td>...</td>\n",
       "      <td>...</td>\n",
       "      <td>...</td>\n",
       "      <td>...</td>\n",
       "    </tr>\n",
       "    <tr>\n",
       "      <th>2425354</th>\n",
       "      <td>472345</td>\n",
       "      <td>301436</td>\n",
       "      <td>4</td>\n",
       "      <td>9</td>\n",
       "      <td>18</td>\n",
       "      <td>2</td>\n",
       "      <td>59</td>\n",
       "    </tr>\n",
       "    <tr>\n",
       "      <th>2000475</th>\n",
       "      <td>1207677</td>\n",
       "      <td>310922</td>\n",
       "      <td>4</td>\n",
       "      <td>9</td>\n",
       "      <td>18</td>\n",
       "      <td>2</td>\n",
       "      <td>59</td>\n",
       "    </tr>\n",
       "    <tr>\n",
       "      <th>2407648</th>\n",
       "      <td>255126</td>\n",
       "      <td>47467</td>\n",
       "      <td>4</td>\n",
       "      <td>9</td>\n",
       "      <td>18</td>\n",
       "      <td>2</td>\n",
       "      <td>59</td>\n",
       "    </tr>\n",
       "    <tr>\n",
       "      <th>827626</th>\n",
       "      <td>622226</td>\n",
       "      <td>345308</td>\n",
       "      <td>4</td>\n",
       "      <td>9</td>\n",
       "      <td>18</td>\n",
       "      <td>2</td>\n",
       "      <td>59</td>\n",
       "    </tr>\n",
       "    <tr>\n",
       "      <th>1725526</th>\n",
       "      <td>1287495</td>\n",
       "      <td>98299</td>\n",
       "      <td>4</td>\n",
       "      <td>9</td>\n",
       "      <td>18</td>\n",
       "      <td>2</td>\n",
       "      <td>59</td>\n",
       "    </tr>\n",
       "  </tbody>\n",
       "</table>\n",
       "<p>2500516 rows × 7 columns</p>\n",
       "</div>"
      ],
      "text/plain": [
       "         visitorid  itemid  day_of_week  month  day  hour  minute\n",
       "1298902     693516  297662            6      5    3     3       0\n",
       "213171      829044   60987            6      5    3     3       0\n",
       "1456585    1125936   33661            6      5    3     3       0\n",
       "1298901     693516  297662            6      5    3     3       0\n",
       "652199     1149227   29757            6      5    3     3       0\n",
       "...            ...     ...          ...    ...  ...   ...     ...\n",
       "2425354     472345  301436            4      9   18     2      59\n",
       "2000475    1207677  310922            4      9   18     2      59\n",
       "2407648     255126   47467            4      9   18     2      59\n",
       "827626      622226  345308            4      9   18     2      59\n",
       "1725526    1287495   98299            4      9   18     2      59\n",
       "\n",
       "[2500516 rows x 7 columns]"
      ]
     },
     "execution_count": 49,
     "metadata": {},
     "output_type": "execute_result"
    }
   ],
   "source": [
    "dataset[cat_features]"
   ]
  },
  {
   "cell_type": "code",
   "execution_count": 63,
   "metadata": {},
   "outputs": [],
   "source": [
    "cat_data = pd.get_dummies(dataset[cat_features], columns=cat_features, sparse=True)"
   ]
  },
  {
   "cell_type": "code",
   "execution_count": 132,
   "metadata": {},
   "outputs": [],
   "source": [
    "import numpy as np\n",
    "from scipy.sparse import coo_matrix, hstack"
   ]
  },
  {
   "cell_type": "code",
   "execution_count": 124,
   "metadata": {},
   "outputs": [],
   "source": [
    "cat_data_sparse = cat_data.sparse.to_coo()"
   ]
  },
  {
   "cell_type": "code",
   "execution_count": 141,
   "metadata": {},
   "outputs": [],
   "source": [
    "data_X_array = hstack([\n",
    "    cat_data_sparse.tocsr(), \n",
    "    dataset[num_features].values.reshape(-1, 1)])\n",
    "data_y_array = dataset[target].values"
   ]
  },
  {
   "cell_type": "code",
   "execution_count": 138,
   "metadata": {},
   "outputs": [
    {
     "data": {
      "text/plain": [
       "(2500516, 1421406)"
      ]
     },
     "execution_count": 138,
     "metadata": {},
     "output_type": "execute_result"
    }
   ],
   "source": [
    "data_X_array"
   ]
  },
  {
   "cell_type": "code",
   "execution_count": 142,
   "metadata": {},
   "outputs": [],
   "source": [
    "X_train, X_test, y_train, y_test = train_test_split(data_X_array, data_y_array, test_size=0.3, shuffle=False)"
   ]
  },
  {
   "cell_type": "code",
   "execution_count": 146,
   "metadata": {},
   "outputs": [],
   "source": [
    "texts_train, texts_test = train_test_split(dataset[text_features], test_size=0.3, shuffle=False)"
   ]
  },
  {
   "cell_type": "code",
   "execution_count": 173,
   "metadata": {},
   "outputs": [],
   "source": [
    "from sklearn.feature_extraction.text import CountVectorizer\n",
    "count_vect = CountVectorizer()\n",
    "X_train_counts = count_vect.fit_transform(texts_train)"
   ]
  },
  {
   "cell_type": "code",
   "execution_count": 151,
   "metadata": {},
   "outputs": [],
   "source": [
    "X_test_counts = count_vect.transform(texts_test)"
   ]
  },
  {
   "cell_type": "code",
   "execution_count": 157,
   "metadata": {},
   "outputs": [],
   "source": [
    "X_train_xgb = hstack([X_train, X_train_counts])\n",
    "X_test_xgb = hstack([X_test, X_test_counts])"
   ]
  },
  {
   "cell_type": "code",
   "execution_count": 179,
   "metadata": {},
   "outputs": [],
   "source": [
    "xgb = XGBClassifier(objective='binary:logistic', eval_metric='mae')"
   ]
  },
  {
   "cell_type": "code",
   "execution_count": 180,
   "metadata": {},
   "outputs": [
    {
     "data": {
      "text/html": [
       "<style>#sk-container-id-3 {color: black;background-color: white;}#sk-container-id-3 pre{padding: 0;}#sk-container-id-3 div.sk-toggleable {background-color: white;}#sk-container-id-3 label.sk-toggleable__label {cursor: pointer;display: block;width: 100%;margin-bottom: 0;padding: 0.3em;box-sizing: border-box;text-align: center;}#sk-container-id-3 label.sk-toggleable__label-arrow:before {content: \"▸\";float: left;margin-right: 0.25em;color: #696969;}#sk-container-id-3 label.sk-toggleable__label-arrow:hover:before {color: black;}#sk-container-id-3 div.sk-estimator:hover label.sk-toggleable__label-arrow:before {color: black;}#sk-container-id-3 div.sk-toggleable__content {max-height: 0;max-width: 0;overflow: hidden;text-align: left;background-color: #f0f8ff;}#sk-container-id-3 div.sk-toggleable__content pre {margin: 0.2em;color: black;border-radius: 0.25em;background-color: #f0f8ff;}#sk-container-id-3 input.sk-toggleable__control:checked~div.sk-toggleable__content {max-height: 200px;max-width: 100%;overflow: auto;}#sk-container-id-3 input.sk-toggleable__control:checked~label.sk-toggleable__label-arrow:before {content: \"▾\";}#sk-container-id-3 div.sk-estimator input.sk-toggleable__control:checked~label.sk-toggleable__label {background-color: #d4ebff;}#sk-container-id-3 div.sk-label input.sk-toggleable__control:checked~label.sk-toggleable__label {background-color: #d4ebff;}#sk-container-id-3 input.sk-hidden--visually {border: 0;clip: rect(1px 1px 1px 1px);clip: rect(1px, 1px, 1px, 1px);height: 1px;margin: -1px;overflow: hidden;padding: 0;position: absolute;width: 1px;}#sk-container-id-3 div.sk-estimator {font-family: monospace;background-color: #f0f8ff;border: 1px dotted black;border-radius: 0.25em;box-sizing: border-box;margin-bottom: 0.5em;}#sk-container-id-3 div.sk-estimator:hover {background-color: #d4ebff;}#sk-container-id-3 div.sk-parallel-item::after {content: \"\";width: 100%;border-bottom: 1px solid gray;flex-grow: 1;}#sk-container-id-3 div.sk-label:hover label.sk-toggleable__label {background-color: #d4ebff;}#sk-container-id-3 div.sk-serial::before {content: \"\";position: absolute;border-left: 1px solid gray;box-sizing: border-box;top: 0;bottom: 0;left: 50%;z-index: 0;}#sk-container-id-3 div.sk-serial {display: flex;flex-direction: column;align-items: center;background-color: white;padding-right: 0.2em;padding-left: 0.2em;position: relative;}#sk-container-id-3 div.sk-item {position: relative;z-index: 1;}#sk-container-id-3 div.sk-parallel {display: flex;align-items: stretch;justify-content: center;background-color: white;position: relative;}#sk-container-id-3 div.sk-item::before, #sk-container-id-3 div.sk-parallel-item::before {content: \"\";position: absolute;border-left: 1px solid gray;box-sizing: border-box;top: 0;bottom: 0;left: 50%;z-index: -1;}#sk-container-id-3 div.sk-parallel-item {display: flex;flex-direction: column;z-index: 1;position: relative;background-color: white;}#sk-container-id-3 div.sk-parallel-item:first-child::after {align-self: flex-end;width: 50%;}#sk-container-id-3 div.sk-parallel-item:last-child::after {align-self: flex-start;width: 50%;}#sk-container-id-3 div.sk-parallel-item:only-child::after {width: 0;}#sk-container-id-3 div.sk-dashed-wrapped {border: 1px dashed gray;margin: 0 0.4em 0.5em 0.4em;box-sizing: border-box;padding-bottom: 0.4em;background-color: white;}#sk-container-id-3 div.sk-label label {font-family: monospace;font-weight: bold;display: inline-block;line-height: 1.2em;}#sk-container-id-3 div.sk-label-container {text-align: center;}#sk-container-id-3 div.sk-container {/* jupyter's `normalize.less` sets `[hidden] { display: none; }` but bootstrap.min.css set `[hidden] { display: none !important; }` so we also need the `!important` here to be able to override the default hidden behavior on the sphinx rendered scikit-learn.org. See: https://github.com/scikit-learn/scikit-learn/issues/21755 */display: inline-block !important;position: relative;}#sk-container-id-3 div.sk-text-repr-fallback {display: none;}</style><div id=\"sk-container-id-3\" class=\"sk-top-container\"><div class=\"sk-text-repr-fallback\"><pre>XGBClassifier(base_score=0.5, booster=&#x27;gbtree&#x27;, callbacks=None,\n",
       "              colsample_bylevel=1, colsample_bynode=1, colsample_bytree=1,\n",
       "              early_stopping_rounds=None, enable_categorical=False,\n",
       "              eval_metric=&#x27;mae&#x27;, feature_types=None, gamma=0, gpu_id=-1,\n",
       "              grow_policy=&#x27;depthwise&#x27;, importance_type=None,\n",
       "              interaction_constraints=&#x27;&#x27;, learning_rate=0.300000012,\n",
       "              max_bin=256, max_cat_threshold=64, max_cat_to_onehot=4,\n",
       "              max_delta_step=0, max_depth=6, max_leaves=0, min_child_weight=1,\n",
       "              missing=nan, monotone_constraints=&#x27;()&#x27;, n_estimators=100,\n",
       "              n_jobs=0, num_parallel_tree=1, predictor=&#x27;auto&#x27;, random_state=0, ...)</pre><b>In a Jupyter environment, please rerun this cell to show the HTML representation or trust the notebook. <br />On GitHub, the HTML representation is unable to render, please try loading this page with nbviewer.org.</b></div><div class=\"sk-container\" hidden><div class=\"sk-item\"><div class=\"sk-estimator sk-toggleable\"><input class=\"sk-toggleable__control sk-hidden--visually\" id=\"sk-estimator-id-3\" type=\"checkbox\" checked><label for=\"sk-estimator-id-3\" class=\"sk-toggleable__label sk-toggleable__label-arrow\">XGBClassifier</label><div class=\"sk-toggleable__content\"><pre>XGBClassifier(base_score=0.5, booster=&#x27;gbtree&#x27;, callbacks=None,\n",
       "              colsample_bylevel=1, colsample_bynode=1, colsample_bytree=1,\n",
       "              early_stopping_rounds=None, enable_categorical=False,\n",
       "              eval_metric=&#x27;mae&#x27;, feature_types=None, gamma=0, gpu_id=-1,\n",
       "              grow_policy=&#x27;depthwise&#x27;, importance_type=None,\n",
       "              interaction_constraints=&#x27;&#x27;, learning_rate=0.300000012,\n",
       "              max_bin=256, max_cat_threshold=64, max_cat_to_onehot=4,\n",
       "              max_delta_step=0, max_depth=6, max_leaves=0, min_child_weight=1,\n",
       "              missing=nan, monotone_constraints=&#x27;()&#x27;, n_estimators=100,\n",
       "              n_jobs=0, num_parallel_tree=1, predictor=&#x27;auto&#x27;, random_state=0, ...)</pre></div></div></div></div></div>"
      ],
      "text/plain": [
       "XGBClassifier(base_score=0.5, booster='gbtree', callbacks=None,\n",
       "              colsample_bylevel=1, colsample_bynode=1, colsample_bytree=1,\n",
       "              early_stopping_rounds=None, enable_categorical=False,\n",
       "              eval_metric='mae', feature_types=None, gamma=0, gpu_id=-1,\n",
       "              grow_policy='depthwise', importance_type=None,\n",
       "              interaction_constraints='', learning_rate=0.300000012,\n",
       "              max_bin=256, max_cat_threshold=64, max_cat_to_onehot=4,\n",
       "              max_delta_step=0, max_depth=6, max_leaves=0, min_child_weight=1,\n",
       "              missing=nan, monotone_constraints='()', n_estimators=100,\n",
       "              n_jobs=0, num_parallel_tree=1, predictor='auto', random_state=0, ...)"
      ]
     },
     "execution_count": 180,
     "metadata": {},
     "output_type": "execute_result"
    }
   ],
   "source": [
    "xgb.fit(X_train_xgb, y_train, verbose=2)"
   ]
  },
  {
   "cell_type": "code",
   "execution_count": 182,
   "metadata": {},
   "outputs": [],
   "source": [
    "preds = xgb.predict(X_test_xgb)"
   ]
  },
  {
   "cell_type": "code",
   "execution_count": 183,
   "metadata": {},
   "outputs": [],
   "source": [
    "from sklearn.metrics import mean_absolute_percentage_error as mape"
   ]
  },
  {
   "cell_type": "code",
   "execution_count": 184,
   "metadata": {},
   "outputs": [],
   "source": [
    "index_of_1 = [idx for idx, val in enumerate(y_test) if val == 1]"
   ]
  },
  {
   "cell_type": "code",
   "execution_count": 185,
   "metadata": {},
   "outputs": [
    {
     "data": {
      "text/plain": [
       "1.0"
      ]
     },
     "execution_count": 185,
     "metadata": {},
     "output_type": "execute_result"
    }
   ],
   "source": [
    "mape(y_test[index_of_1], preds[index_of_1])"
   ]
  },
  {
   "cell_type": "markdown",
   "metadata": {},
   "source": [
    "As expected there is no positive results using XGBoost. "
   ]
  }
 ],
 "metadata": {
  "kernelspec": {
   "display_name": "Python 3.8.15 64-bit ('python38env')",
   "language": "python",
   "name": "python3"
  },
  "language_info": {
   "codemirror_mode": {
    "name": "ipython",
    "version": 3
   },
   "file_extension": ".py",
   "mimetype": "text/x-python",
   "name": "python",
   "nbconvert_exporter": "python",
   "pygments_lexer": "ipython3",
   "version": "3.8.15"
  },
  "orig_nbformat": 4,
  "vscode": {
   "interpreter": {
    "hash": "f9950125aa557d76e72eb0e5cdfe529ab46fd53c0f38a7bdd455a5c871bfc53b"
   }
  }
 },
 "nbformat": 4,
 "nbformat_minor": 2
}
